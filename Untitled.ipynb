{
 "cells": [
  {
   "cell_type": "code",
   "execution_count": 2,
   "id": "a5ae21d8",
   "metadata": {},
   "outputs": [
    {
     "data": {
      "text/plain": [
       "'/home/victor/gpx/traces/02_août_08h42_-_10h49.gpx'"
      ]
     },
     "execution_count": 2,
     "metadata": {},
     "output_type": "execute_result"
    }
   ],
   "source": [
    "file_path"
   ]
  },
  {
   "cell_type": "code",
   "execution_count": 5,
   "id": "893a6261",
   "metadata": {},
   "outputs": [],
   "source": []
  },
  {
   "cell_type": "code",
   "execution_count": 6,
   "id": "91a6a8dc",
   "metadata": {},
   "outputs": [
    {
     "data": {
      "text/plain": [
       "('/home/victor/gpx/traces/02_août_08h42_-_10h49.gpx',\n",
       " '/home/victor/gpx/traces/05_déc._15h40_-_16h29.gpx',\n",
       " '/home/victor/gpx/traces/08_mai_15h13_-_17h21.gpx',\n",
       " '/home/victor/gpx/traces/12_mai_17h49_-_18h35.gpx',\n",
       " '/home/victor/gpx/traces/16_sept._08h33_-_08h51.gpx',\n",
       " '/home/victor/gpx/traces/19_avr._14h08_-_14h29.gpx')"
      ]
     },
     "execution_count": 6,
     "metadata": {},
     "output_type": "execute_result"
    }
   ],
   "source": [
    "file_path"
   ]
  }
 ],
 "metadata": {
  "kernelspec": {
   "display_name": "Python 3",
   "language": "python",
   "name": "python3"
  },
  "language_info": {
   "codemirror_mode": {
    "name": "ipython",
    "version": 3
   },
   "file_extension": ".py",
   "mimetype": "text/x-python",
   "name": "python",
   "nbconvert_exporter": "python",
   "pygments_lexer": "ipython3",
   "version": "3.7.0"
  }
 },
 "nbformat": 4,
 "nbformat_minor": 5
}
